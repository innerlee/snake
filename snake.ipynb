{
 "cells": [
  {
   "cell_type": "code",
   "execution_count": 1,
   "source": [
    "using DataFrames\n",
    "using CSV"
   ],
   "outputs": [],
   "metadata": {}
  },
  {
   "cell_type": "code",
   "execution_count": 2,
   "source": [
    "df1 = CSV.File(\"Nation.evt\", delim=\" \", ignorerepeated=true, header=[:id, :eventid, :a, :b, :c, :timestamp], select=[1, 2, 6]) |> DataFrame"
   ],
   "outputs": [
    {
     "output_type": "execute_result",
     "data": {
      "text/plain": [
       "\u001b[1m1053×3 DataFrame\u001b[0m\n",
       "\u001b[1m  Row \u001b[0m│\u001b[1m id    \u001b[0m\u001b[1m eventid \u001b[0m\u001b[1m timestamp \u001b[0m\n",
       "\u001b[1m      \u001b[0m│\u001b[90m Int64 \u001b[0m\u001b[90m Int64   \u001b[0m\u001b[90m Int64     \u001b[0m\n",
       "──────┼───────────────────────────\n",
       "    1 │     1        1     305860\n",
       "    2 │     2      122     338500\n",
       "    3 │     3        1     367812\n",
       "    4 │     4      122     374724\n",
       "    5 │     5        2     398532\n",
       "    6 │     6      122     407620\n",
       "    7 │     7        1     429252\n",
       "    8 │     8      222     454980\n",
       "    9 │     9        2     485572\n",
       "   10 │    10      212     495428\n",
       "   11 │    11        2     520388\n",
       "  ⋮   │   ⋮       ⋮         ⋮\n",
       " 1044 │  1044      221   28536644\n",
       " 1045 │  1045        1   28562116\n",
       " 1046 │  1046      111   28587076\n",
       " 1047 │  1047        2   28614468\n",
       " 1048 │  1048      121   28630084\n",
       " 1049 │  1049        2   28651844\n",
       " 1050 │  1050      112   28677060\n",
       " 1051 │  1051        1   28702020\n",
       " 1052 │  1052      221   28718788\n",
       " 1053 │  1053        1   28745540\n",
       "\u001b[36m                 1032 rows omitted\u001b[0m"
      ],
      "text/latex": [
       "\\begin{tabular}{r|ccc}\n",
       "\t& id & eventid & timestamp\\\\\n",
       "\t\\hline\n",
       "\t& Int64 & Int64 & Int64\\\\\n",
       "\t\\hline\n",
       "\t1 & 1 & 1 & 305860 \\\\\n",
       "\t2 & 2 & 122 & 338500 \\\\\n",
       "\t3 & 3 & 1 & 367812 \\\\\n",
       "\t4 & 4 & 122 & 374724 \\\\\n",
       "\t5 & 5 & 2 & 398532 \\\\\n",
       "\t6 & 6 & 122 & 407620 \\\\\n",
       "\t7 & 7 & 1 & 429252 \\\\\n",
       "\t8 & 8 & 222 & 454980 \\\\\n",
       "\t9 & 9 & 2 & 485572 \\\\\n",
       "\t10 & 10 & 212 & 495428 \\\\\n",
       "\t11 & 11 & 2 & 520388 \\\\\n",
       "\t12 & 12 & 111 & 542404 \\\\\n",
       "\t13 & 13 & 2 & 569540 \\\\\n",
       "\t14 & 14 & 211 & 593604 \\\\\n",
       "\t15 & 15 & 2 & 619204 \\\\\n",
       "\t16 & 16 & 212 & 644292 \\\\\n",
       "\t17 & 17 & 122 & 678852 \\\\\n",
       "\t18 & 18 & 2 & 680644 \\\\\n",
       "\t19 & 19 & 1 & 704708 \\\\\n",
       "\t20 & 20 & 212 & 724036 \\\\\n",
       "\t21 & 21 & 2 & 744132 \\\\\n",
       "\t22 & 22 & 121 & 759108 \\\\\n",
       "\t23 & 23 & 1 & 785604 \\\\\n",
       "\t24 & 24 & 112 & 808516 \\\\\n",
       "\t25 & 25 & 1 & 842948 \\\\\n",
       "\t26 & 26 & 211 & 854212 \\\\\n",
       "\t27 & 27 & 2 & 880836 \\\\\n",
       "\t28 & 28 & 111 & 904516 \\\\\n",
       "\t29 & 29 & 1 & 935620 \\\\\n",
       "\t30 & 30 & 211 & 951492 \\\\\n",
       "\t$\\dots$ & $\\dots$ & $\\dots$ & $\\dots$ \\\\\n",
       "\\end{tabular}\n"
      ],
      "text/html": [
       "<div class=\"data-frame\"><p>1,053 rows × 3 columns</p><table class=\"data-frame\"><thead><tr><th></th><th>id</th><th>eventid</th><th>timestamp</th></tr><tr><th></th><th title=\"Int64\">Int64</th><th title=\"Int64\">Int64</th><th title=\"Int64\">Int64</th></tr></thead><tbody><tr><th>1</th><td>1</td><td>1</td><td>305860</td></tr><tr><th>2</th><td>2</td><td>122</td><td>338500</td></tr><tr><th>3</th><td>3</td><td>1</td><td>367812</td></tr><tr><th>4</th><td>4</td><td>122</td><td>374724</td></tr><tr><th>5</th><td>5</td><td>2</td><td>398532</td></tr><tr><th>6</th><td>6</td><td>122</td><td>407620</td></tr><tr><th>7</th><td>7</td><td>1</td><td>429252</td></tr><tr><th>8</th><td>8</td><td>222</td><td>454980</td></tr><tr><th>9</th><td>9</td><td>2</td><td>485572</td></tr><tr><th>10</th><td>10</td><td>212</td><td>495428</td></tr><tr><th>11</th><td>11</td><td>2</td><td>520388</td></tr><tr><th>12</th><td>12</td><td>111</td><td>542404</td></tr><tr><th>13</th><td>13</td><td>2</td><td>569540</td></tr><tr><th>14</th><td>14</td><td>211</td><td>593604</td></tr><tr><th>15</th><td>15</td><td>2</td><td>619204</td></tr><tr><th>16</th><td>16</td><td>212</td><td>644292</td></tr><tr><th>17</th><td>17</td><td>122</td><td>678852</td></tr><tr><th>18</th><td>18</td><td>2</td><td>680644</td></tr><tr><th>19</th><td>19</td><td>1</td><td>704708</td></tr><tr><th>20</th><td>20</td><td>212</td><td>724036</td></tr><tr><th>21</th><td>21</td><td>2</td><td>744132</td></tr><tr><th>22</th><td>22</td><td>121</td><td>759108</td></tr><tr><th>23</th><td>23</td><td>1</td><td>785604</td></tr><tr><th>24</th><td>24</td><td>112</td><td>808516</td></tr><tr><th>25</th><td>25</td><td>1</td><td>842948</td></tr><tr><th>26</th><td>26</td><td>211</td><td>854212</td></tr><tr><th>27</th><td>27</td><td>2</td><td>880836</td></tr><tr><th>28</th><td>28</td><td>111</td><td>904516</td></tr><tr><th>29</th><td>29</td><td>1</td><td>935620</td></tr><tr><th>30</th><td>30</td><td>211</td><td>951492</td></tr><tr><th>&vellip;</th><td>&vellip;</td><td>&vellip;</td><td>&vellip;</td></tr></tbody></table></div>"
      ]
     },
     "metadata": {},
     "execution_count": 2
    }
   ],
   "metadata": {}
  },
  {
   "cell_type": "code",
   "execution_count": 3,
   "source": [
    "N = nrow(df1)\n",
    "df3 = DataFrame(actid=[], reactid=[], timespan=[], timestamp=[])\n",
    "T = 32000.0\n",
    "\n",
    "for r in eachrow(hcat(df1[1:N-1, :], df1[2:N, :], makeunique=true))\n",
    "    r.eventid < 100 && continue\n",
    "    actid = r.eventid\n",
    "    timestamp = r.timestamp\n",
    "    if r.eventid_1 < 100 && r.timestamp_1 - r.timestamp < T  && r.timestamp_1 - r.timestamp > 0.1 * T\n",
    "        reactid = r.eventid_1\n",
    "        timespan = (r.timestamp_1 - r.timestamp) / T\n",
    "    else\n",
    "        reactid = 0\n",
    "        timespan = 0\n",
    "    end\n",
    "    df3 = vcat(df3, DataFrame(actid=actid, reactid=reactid, timespan=timespan, timestamp=timestamp))\n",
    "end\n",
    "df3"
   ],
   "outputs": [
    {
     "output_type": "execute_result",
     "data": {
      "text/plain": [
       "\u001b[1m512×4 DataFrame\u001b[0m\n",
       "\u001b[1m Row \u001b[0m│\u001b[1m actid \u001b[0m\u001b[1m reactid \u001b[0m\u001b[1m timespan \u001b[0m\u001b[1m timestamp \u001b[0m\n",
       "\u001b[1m     \u001b[0m│\u001b[90m Any   \u001b[0m\u001b[90m Any     \u001b[0m\u001b[90m Any      \u001b[0m\u001b[90m Any       \u001b[0m\n",
       "─────┼─────────────────────────────────────\n",
       "   1 │ 122    1        0.916     338500\n",
       "   2 │ 122    2        0.744     374724\n",
       "   3 │ 122    1        0.676     407620\n",
       "   4 │ 222    2        0.956     454980\n",
       "   5 │ 212    2        0.78      495428\n",
       "   6 │ 111    2        0.848     542404\n",
       "   7 │ 211    2        0.8       593604\n",
       "   8 │ 212    0        0         644292\n",
       "   9 │ 122    0        0         678852\n",
       "  10 │ 212    2        0.628     724036\n",
       "  11 │ 121    1        0.828     759108\n",
       "  ⋮  │   ⋮       ⋮        ⋮          ⋮\n",
       " 503 │ 221    2        0.552     28316612\n",
       " 504 │ 222    2        0.552     28364740\n",
       " 505 │ 112    1        0.768     28410052\n",
       " 506 │ 212    2        0.8       28461252\n",
       " 507 │ 211    2        0.54      28498756\n",
       " 508 │ 221    1        0.796     28536644\n",
       " 509 │ 111    2        0.856     28587076\n",
       " 510 │ 121    2        0.68      28630084\n",
       " 511 │ 112    1        0.78      28677060\n",
       " 512 │ 221    1        0.836     28718788\n",
       "\u001b[36m                           491 rows omitted\u001b[0m"
      ],
      "text/latex": [
       "\\begin{tabular}{r|cccc}\n",
       "\t& actid & reactid & timespan & timestamp\\\\\n",
       "\t\\hline\n",
       "\t& Any & Any & Any & Any\\\\\n",
       "\t\\hline\n",
       "\t1 & 122 & 1 & 0.916 & 338500 \\\\\n",
       "\t2 & 122 & 2 & 0.744 & 374724 \\\\\n",
       "\t3 & 122 & 1 & 0.676 & 407620 \\\\\n",
       "\t4 & 222 & 2 & 0.956 & 454980 \\\\\n",
       "\t5 & 212 & 2 & 0.78 & 495428 \\\\\n",
       "\t6 & 111 & 2 & 0.848 & 542404 \\\\\n",
       "\t7 & 211 & 2 & 0.8 & 593604 \\\\\n",
       "\t8 & 212 & 0 & 0 & 644292 \\\\\n",
       "\t9 & 122 & 0 & 0 & 678852 \\\\\n",
       "\t10 & 212 & 2 & 0.628 & 724036 \\\\\n",
       "\t11 & 121 & 1 & 0.828 & 759108 \\\\\n",
       "\t12 & 112 & 0 & 0 & 808516 \\\\\n",
       "\t13 & 211 & 2 & 0.832 & 854212 \\\\\n",
       "\t14 & 111 & 1 & 0.972 & 904516 \\\\\n",
       "\t15 & 211 & 2 & 0.912 & 951492 \\\\\n",
       "\t16 & 222 & 2 & 0.648 & 995780 \\\\\n",
       "\t17 & 211 & 2 & 0.776 & 1046980 \\\\\n",
       "\t18 & 221 & 1 & 0.764 & 1080644 \\\\\n",
       "\t19 & 222 & 2 & 0.752 & 1119940 \\\\\n",
       "\t20 & 222 & 2 & 0.876 & 1154884 \\\\\n",
       "\t21 & 121 & 1 & 0.68 & 1194948 \\\\\n",
       "\t22 & 221 & 2 & 0.692 & 1230404 \\\\\n",
       "\t23 & 121 & 1 & 0.64 & 1278660 \\\\\n",
       "\t24 & 111 & 1 & 0.74 & 1325124 \\\\\n",
       "\t25 & 111 & 1 & 0.672 & 1370308 \\\\\n",
       "\t26 & 112 & 1 & 0.852 & 1403972 \\\\\n",
       "\t27 & 221 & 1 & 0.624 & 1444548 \\\\\n",
       "\t28 & 121 & 1 & 0.816 & 1490628 \\\\\n",
       "\t29 & 112 & 2 & 0.888 & 1537476 \\\\\n",
       "\t30 & 112 & 1 & 0.824 & 1573828 \\\\\n",
       "\t$\\dots$ & $\\dots$ & $\\dots$ & $\\dots$ & $\\dots$ \\\\\n",
       "\\end{tabular}\n"
      ],
      "text/html": [
       "<div class=\"data-frame\"><p>512 rows × 4 columns</p><table class=\"data-frame\"><thead><tr><th></th><th>actid</th><th>reactid</th><th>timespan</th><th>timestamp</th></tr><tr><th></th><th title=\"Any\">Any</th><th title=\"Any\">Any</th><th title=\"Any\">Any</th><th title=\"Any\">Any</th></tr></thead><tbody><tr><th>1</th><td>122</td><td>1</td><td>0.916</td><td>338500</td></tr><tr><th>2</th><td>122</td><td>2</td><td>0.744</td><td>374724</td></tr><tr><th>3</th><td>122</td><td>1</td><td>0.676</td><td>407620</td></tr><tr><th>4</th><td>222</td><td>2</td><td>0.956</td><td>454980</td></tr><tr><th>5</th><td>212</td><td>2</td><td>0.78</td><td>495428</td></tr><tr><th>6</th><td>111</td><td>2</td><td>0.848</td><td>542404</td></tr><tr><th>7</th><td>211</td><td>2</td><td>0.8</td><td>593604</td></tr><tr><th>8</th><td>212</td><td>0</td><td>0</td><td>644292</td></tr><tr><th>9</th><td>122</td><td>0</td><td>0</td><td>678852</td></tr><tr><th>10</th><td>212</td><td>2</td><td>0.628</td><td>724036</td></tr><tr><th>11</th><td>121</td><td>1</td><td>0.828</td><td>759108</td></tr><tr><th>12</th><td>112</td><td>0</td><td>0</td><td>808516</td></tr><tr><th>13</th><td>211</td><td>2</td><td>0.832</td><td>854212</td></tr><tr><th>14</th><td>111</td><td>1</td><td>0.972</td><td>904516</td></tr><tr><th>15</th><td>211</td><td>2</td><td>0.912</td><td>951492</td></tr><tr><th>16</th><td>222</td><td>2</td><td>0.648</td><td>995780</td></tr><tr><th>17</th><td>211</td><td>2</td><td>0.776</td><td>1046980</td></tr><tr><th>18</th><td>221</td><td>1</td><td>0.764</td><td>1080644</td></tr><tr><th>19</th><td>222</td><td>2</td><td>0.752</td><td>1119940</td></tr><tr><th>20</th><td>222</td><td>2</td><td>0.876</td><td>1154884</td></tr><tr><th>21</th><td>121</td><td>1</td><td>0.68</td><td>1194948</td></tr><tr><th>22</th><td>221</td><td>2</td><td>0.692</td><td>1230404</td></tr><tr><th>23</th><td>121</td><td>1</td><td>0.64</td><td>1278660</td></tr><tr><th>24</th><td>111</td><td>1</td><td>0.74</td><td>1325124</td></tr><tr><th>25</th><td>111</td><td>1</td><td>0.672</td><td>1370308</td></tr><tr><th>26</th><td>112</td><td>1</td><td>0.852</td><td>1403972</td></tr><tr><th>27</th><td>221</td><td>1</td><td>0.624</td><td>1444548</td></tr><tr><th>28</th><td>121</td><td>1</td><td>0.816</td><td>1490628</td></tr><tr><th>29</th><td>112</td><td>2</td><td>0.888</td><td>1537476</td></tr><tr><th>30</th><td>112</td><td>1</td><td>0.824</td><td>1573828</td></tr><tr><th>&vellip;</th><td>&vellip;</td><td>&vellip;</td><td>&vellip;</td><td>&vellip;</td></tr></tbody></table></div>"
      ]
     },
     "metadata": {},
     "execution_count": 3
    }
   ],
   "metadata": {}
  },
  {
   "cell_type": "code",
   "execution_count": 4,
   "source": [
    "df2 = CSV.File(\"Nation2.evt\", delim=\" \", ignorerepeated=true, header=[:seqid, :actid, :reactid, :correct, :timespan, :timestamp], select=[2,3,5,6]) |> DataFrame\n",
    "df2 == df3"
   ],
   "outputs": [
    {
     "output_type": "execute_result",
     "data": {
      "text/plain": [
       "true"
      ]
     },
     "metadata": {},
     "execution_count": 4
    }
   ],
   "metadata": {}
  }
 ],
 "metadata": {
  "orig_nbformat": 4,
  "language_info": {
   "file_extension": ".jl",
   "name": "julia",
   "mimetype": "application/julia",
   "version": "1.6.2"
  },
  "kernelspec": {
   "name": "julia-1.6",
   "display_name": "Julia 1.6.2",
   "language": "julia"
  }
 },
 "nbformat": 4,
 "nbformat_minor": 2
}